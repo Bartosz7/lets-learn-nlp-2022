{
 "cells": [
  {
   "cell_type": "markdown",
   "id": "9aa5dbbc",
   "metadata": {},
   "source": [
    "![](./resources/images/header_logo.png)"
   ]
  },
  {
   "cell_type": "markdown",
   "id": "4447f721",
   "metadata": {},
   "source": [
    "# Chapter 5 Extraction of Keywords & Summarization"
   ]
  },
  {
   "cell_type": "code",
   "execution_count": null,
   "id": "b516cd31",
   "metadata": {},
   "outputs": [],
   "source": []
  },
  {
   "cell_type": "markdown",
   "id": "77c6bc20",
   "metadata": {},
   "source": [
    "# THE END\n",
    "\n",
    "That's the end of this course for now.\n",
    "We hope you liked it."
   ]
  }
 ],
 "metadata": {
  "kernelspec": {
   "display_name": "Python 3 (ipykernel)",
   "language": "python",
   "name": "python3"
  },
  "language_info": {
   "codemirror_mode": {
    "name": "ipython",
    "version": 3
   },
   "file_extension": ".py",
   "mimetype": "text/x-python",
   "name": "python",
   "nbconvert_exporter": "python",
   "pygments_lexer": "ipython3",
   "version": "3.9.7"
  }
 },
 "nbformat": 4,
 "nbformat_minor": 5
}
