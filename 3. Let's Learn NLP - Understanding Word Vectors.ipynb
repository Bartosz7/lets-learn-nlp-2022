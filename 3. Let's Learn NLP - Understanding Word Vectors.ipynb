{
 "cells": [
  {
   "cell_type": "markdown",
   "id": "eb66669a",
   "metadata": {},
   "source": [
    "![](./resources/images/header_logo.png)"
   ]
  },
  {
   "cell_type": "markdown",
   "id": "ed907646",
   "metadata": {},
   "source": [
    "# Chapter 3 Understanding word vectors\n",
    "\n",
    "This section will reason about how computers understand plain text. We already know that we use language model to analyse texts. What features do we need to understand the meaning behind particular words or even sentences?\n",
    "\n",
    "The answer is Math, namely vectors.\n",
    "\n",
    "Each word is represented using a vector or a matrix of numbers. We call these **word vectors**  or **word embeddings**.\n",
    "\n",
    "Let's see some real examples. We will continue to use spacy en_core_web_md model."
   ]
  },
  {
   "cell_type": "code",
   "execution_count": 57,
   "id": "c8c2b9af",
   "metadata": {},
   "outputs": [],
   "source": [
    "# Imports\n",
    "import spacy\n",
    "nlp = spacy.load(\"en_core_web_md\")"
   ]
  },
  {
   "cell_type": "code",
   "execution_count": 58,
   "id": "72db8028",
   "metadata": {},
   "outputs": [
    {
     "data": {
      "text/plain": [
       "array([-0.15067  , -0.024468 , -0.23368  , -0.23378  , -0.18382  ,\n",
       "        0.32711  , -0.22084  , -0.28777  ,  0.12759  ,  1.1656   ,\n",
       "       -0.64163  , -0.098455 , -0.62397  ,  0.010431 , -0.25653  ,\n",
       "        0.31799  ,  0.037779 ,  1.1904   , -0.17714  , -0.2595   ,\n",
       "       -0.31461  ,  0.038825 , -0.15713  , -0.13484  ,  0.36936  ,\n",
       "       -0.30562  , -0.40619  , -0.38965  ,  0.3686   ,  0.013963 ,\n",
       "       -0.6895   ,  0.004066 , -0.1367   ,  0.32564  ,  0.24688  ,\n",
       "       -0.14011  ,  0.53889  , -0.80441  , -0.1777   , -0.12922  ,\n",
       "        0.16303  ,  0.14917  , -0.068429 , -0.33922  ,  0.18495  ,\n",
       "       -0.082544 , -0.46892  ,  0.39581  , -0.13742  , -0.35132  ,\n",
       "        0.22223  , -0.144    , -0.048287 ,  0.3379   , -0.31916  ,\n",
       "        0.20526  ,  0.098624 , -0.23877  ,  0.045338 ,  0.43941  ,\n",
       "        0.030385 , -0.013821 , -0.093273 , -0.18178  ,  0.19438  ,\n",
       "       -0.3782   ,  0.70144  ,  0.16236  ,  0.0059111,  0.024898 ,\n",
       "       -0.13613  , -0.11425  , -0.31598  , -0.14209  ,  0.028194 ,\n",
       "        0.5419   , -0.42413  , -0.599    ,  0.24976  , -0.27003  ,\n",
       "        0.14964  ,  0.29287  , -0.31281  ,  0.16543  , -0.21045  ,\n",
       "       -0.4408   ,  1.2174   ,  0.51236  ,  0.56209  ,  0.14131  ,\n",
       "        0.092514 ,  0.71396  , -0.021051 , -0.33704  , -0.20275  ,\n",
       "       -0.36181  ,  0.22055  , -0.25665  ,  0.28425  , -0.16968  ,\n",
       "        0.058029 ,  0.61182  ,  0.31576  , -0.079185 ,  0.35538  ,\n",
       "       -0.51236  ,  0.4235   , -0.30033  , -0.22376  ,  0.15223  ,\n",
       "       -0.048292 ,  0.23532  ,  0.46507  , -0.67579  , -0.32905  ,\n",
       "        0.08446  , -0.22123  , -0.045333 ,  0.34463  , -0.1455   ,\n",
       "       -0.18047  , -0.17887  ,  0.96879  , -1.0028   , -0.47343  ,\n",
       "        0.28542  ,  0.56382  , -0.33211  , -0.38275  , -0.2749   ,\n",
       "       -0.22955  , -0.24265  , -0.37689  ,  0.24822  ,  0.36941  ,\n",
       "        0.14651  , -0.37864  ,  0.31134  , -0.28449  ,  0.36948  ,\n",
       "       -2.8174   , -0.38319  , -0.022373 ,  0.56376  ,  0.40131  ,\n",
       "       -0.42131  , -0.11311  , -0.17317  ,  0.1411   , -0.13194  ,\n",
       "        0.18494  ,  0.097692 , -0.097341 , -0.23987  ,  0.16631  ,\n",
       "       -0.28556  ,  0.0038654,  0.53292  , -0.32367  , -0.38744  ,\n",
       "        0.27011  , -0.34181  , -0.27702  , -0.67279  , -0.10771  ,\n",
       "       -0.062189 , -0.24783  , -0.070884 , -0.20898  ,  0.062404 ,\n",
       "        0.022372 ,  0.13408  ,  0.1305   , -0.19546  , -0.46849  ,\n",
       "        0.77731  , -0.043978 ,  0.3827   , -0.23376  ,  1.0457   ,\n",
       "       -0.14371  , -0.3565   , -0.080713 , -0.31047  , -0.57822  ,\n",
       "       -0.28067  , -0.069678 ,  0.068929 , -0.16227  , -0.63934  ,\n",
       "       -0.62149  ,  0.11222  , -0.16969  , -0.54637  ,  0.49661  ,\n",
       "        0.46565  ,  0.088294 , -0.48496  ,  0.69263  , -0.068977 ,\n",
       "       -0.53709  ,  0.20802  , -0.42987  , -0.11921  ,  0.1174   ,\n",
       "       -0.18443  ,  0.43797  , -0.1236   ,  0.3607   , -0.19608  ,\n",
       "       -0.35366  ,  0.18808  , -0.5061   ,  0.14455  , -0.024368 ,\n",
       "       -0.10772  , -0.0115   ,  0.58634  , -0.054461 ,  0.0076487,\n",
       "       -0.056297 ,  0.27193  ,  0.23096  , -0.29296  , -0.24325  ,\n",
       "        0.10317  , -0.10014  ,  0.7089   ,  0.17402  , -0.0037509,\n",
       "       -0.46304  ,  0.11806  , -0.16457  , -0.38609  ,  0.14524  ,\n",
       "        0.098122 , -0.12352  , -0.1047   ,  0.39047  , -0.3063   ,\n",
       "       -0.65375  , -0.0044248, -0.033876 ,  0.037114 , -0.27472  ,\n",
       "        0.0053147,  0.30737  ,  0.12528  , -0.19527  , -0.16461  ,\n",
       "        0.087518 , -0.051107 , -0.16323  ,  0.521    ,  0.10822  ,\n",
       "       -0.060379 , -0.71735  , -0.064327 ,  0.37043  , -0.41054  ,\n",
       "       -0.2728   , -0.30217  ,  0.015771 , -0.43056  ,  0.35647  ,\n",
       "        0.17188  , -0.54598  , -0.21541  , -0.044889 , -0.10597  ,\n",
       "       -0.54391  ,  0.53908  ,  0.070938 ,  0.097839 ,  0.097908 ,\n",
       "        0.17805  ,  0.18995  ,  0.49962  , -0.18529  ,  0.051234 ,\n",
       "        0.019574 ,  0.24805  ,  0.3144   , -0.29304  ,  0.54235  ,\n",
       "        0.46672  ,  0.26017  , -0.44705  ,  0.28287  , -0.033345 ,\n",
       "       -0.33181  , -0.10902  , -0.023324 ,  0.2106   , -0.29633  ,\n",
       "        0.81506  ,  0.038524 ,  0.46004  ,  0.17187  , -0.29804  ],\n",
       "      dtype=float32)"
      ]
     },
     "execution_count": 58,
     "metadata": {},
     "output_type": "execute_result"
    }
   ],
   "source": [
    "# Check the vector behind the word \"cat\"\n",
    "nlp.vocab[\"cat\"].vector"
   ]
  },
  {
   "cell_type": "code",
   "execution_count": 59,
   "id": "7e8b5058",
   "metadata": {},
   "outputs": [
    {
     "name": "stdout",
     "output_type": "stream",
     "text": [
      "300\n"
     ]
    }
   ],
   "source": [
    "# How many numbers represent the word vector for \"cat\"?\n",
    "print(len(nlp.vocab[\"cat\"].vector))"
   ]
  },
  {
   "cell_type": "markdown",
   "id": "9ac3f212",
   "metadata": {},
   "source": [
    "Yeah, 300 is a lot of numbers for just a single word representation, but all of these are singularly or in groups give some information about the cat like \"it's an animal\" or \"it's similar to lion\" or \"it drinks milk\". The bigger the dataset we train on, the more information we can include in the model and then use it for different purposes."
   ]
  },
  {
   "cell_type": "markdown",
   "id": "ffbaadcf",
   "metadata": {},
   "source": [
    "# Cosine similarity\n",
    "\n",
    "Let's explore the idea of the similarity of two unit vectors in a 2-D plane."
   ]
  },
  {
   "cell_type": "code",
   "execution_count": 60,
   "id": "bb97e841",
   "metadata": {},
   "outputs": [
    {
     "data": {
      "application/vnd.jupyter.widget-view+json": {
       "model_id": "adc44b52d733404aacbdc925d130098a",
       "version_major": 2,
       "version_minor": 0
      },
      "text/plain": [
       "interactive(children=(BoundedIntText(value=98, description='Text:', min=-100, step=5), BoundedIntText(value=9,…"
      ]
     },
     "metadata": {},
     "output_type": "display_data"
    },
    {
     "data": {
      "text/plain": [
       "<ipywidgets.widgets.interaction._InteractFactory at 0x1c8c79fd040>"
      ]
     },
     "execution_count": 60,
     "metadata": {},
     "output_type": "execute_result"
    }
   ],
   "source": [
    "import numpy as np\n",
    "import matplotlib.pyplot as plt\n",
    "from ipywidgets import interact, BoundedIntText, IntSlider\n",
    "from random import randrange\n",
    "from math import sin, cos, radians\n",
    "\n",
    "int_box = BoundedIntText(\n",
    "    value=randrange(0,100),\n",
    "    min=-100,\n",
    "    max=100,\n",
    "    step=5,\n",
    "    description='Text:',\n",
    "    disabled=False\n",
    ")\n",
    "\n",
    "int_box_2 = BoundedIntText(\n",
    "    value=randrange(0,100),\n",
    "    min=-100,\n",
    "    max=100,\n",
    "    step=5,\n",
    "    description='Text:',\n",
    "    disabled=False\n",
    ")\n",
    "\n",
    "int_box_3 = BoundedIntText(\n",
    "    value=randrange(0,100),\n",
    "    min=-100,\n",
    "    max=100,\n",
    "    step=5,\n",
    "    description='Text:',\n",
    "    disabled=False\n",
    ")\n",
    "\n",
    "int_box_4 = BoundedIntText(\n",
    "    value=randrange(0,100),\n",
    "    min=-100,\n",
    "    max=100,\n",
    "    step=5,\n",
    "    description='Text:',\n",
    "    disabled=False\n",
    ")\n",
    "\n",
    "int_slider = IntSlider(\n",
    "    value=0,\n",
    "    min=0,\n",
    "    max=360,\n",
    "    step=1,\n",
    "    description='Test:',\n",
    "    disabled=False,\n",
    "    continuous_update=False,\n",
    "    orientation='horizontal',\n",
    "    readout=True,\n",
    "    readout_format='d'\n",
    ")\n",
    "\n",
    "int_slider_2 = IntSlider(\n",
    "    value=0,\n",
    "    min=0,\n",
    "    max=360,\n",
    "    step=1,\n",
    "    description='Test:',\n",
    "    disabled=False,\n",
    "    continuous_update=False,\n",
    "    orientation='horizontal',\n",
    "    readout=True,\n",
    "    readout_format='d'\n",
    ")\n",
    "\n",
    "@interact(x1=int_box, y1=int_box_2, x2=int_box_3, y2=int_box_4, angle_1=int_slider, angle_2=int_slider_2)\n",
    "def plot(x1,y1,x2,y2, angle_1, angle_2):\n",
    "    length = 50\n",
    "    dx1 = cos(radians(angle_1))*length\n",
    "    dy1 = sin(radians(angle_1))*length\n",
    "    dx2 = cos(radians(angle_2))*length\n",
    "    dy2 = sin(radians(angle_2))*length\n",
    "    plt.figure(figsize=(8, 8), dpi=100)\n",
    "    ax = plt.axes()\n",
    "    ax.arrow(x1, y1, dx1, dy1, head_width=5, head_length=2, fc='black', ec='black')\n",
    "    ax.arrow(x2, y2, dx2, dy2, head_width=5, head_length=2, fc='blue', ec='blue')\n",
    "    plt.xlim(-100, 100)\n",
    "    plt.ylim(-100, 100)\n",
    "    plt.show()\n",
    "\n",
    "interact(x1=int_box, y1=int_box_2, x2=int_box_3, y2=int_box_4, angle_1=int_slider, angle_2=int_slider_2)"
   ]
  },
  {
   "cell_type": "markdown",
   "id": "9ddd550d",
   "metadata": {},
   "source": [
    "The same idea and formula extends to multi-dimensional vectors, including our 300 dimensional word vectors.\n",
    "Cosine similarity really gives insight into how similar two vectors are, but it is not a great scoring system.\n",
    "That is why, we usually use **similarity distance** instead of actual cosine.\n",
    "\n",
    "distance = 1 - cos(v1, v2)"
   ]
  },
  {
   "cell_type": "markdown",
   "id": "19c78e62",
   "metadata": {},
   "source": [
    "## Calculating similarity between two words\n",
    "\n",
    "Now that we know how vector similarity works, we can use it to calculate similarity between two words."
   ]
  },
  {
   "cell_type": "code",
   "execution_count": 61,
   "id": "a522e09e",
   "metadata": {},
   "outputs": [
    {
     "name": "stdout",
     "output_type": "stream",
     "text": [
      "0.5265437960624695\n",
      "0.39923766255378723\n",
      "0.27374202013015747\n"
     ]
    },
    {
     "ename": "IndexError",
     "evalue": "list index out of range",
     "output_type": "error",
     "traceback": [
      "\u001b[1;31m---------------------------------------------------------------------------\u001b[0m",
      "\u001b[1;31mIndexError\u001b[0m                                Traceback (most recent call last)",
      "Input \u001b[1;32mIn [61]\u001b[0m, in \u001b[0;36m<module>\u001b[1;34m\u001b[0m\n\u001b[0;32m      9\u001b[0m words \u001b[38;5;241m=\u001b[39m [cat, lion, pet, milk]\n\u001b[0;32m     10\u001b[0m \u001b[38;5;28;01mfor\u001b[39;00m i \u001b[38;5;129;01min\u001b[39;00m \u001b[38;5;28mrange\u001b[39m(\u001b[38;5;28mlen\u001b[39m(words)):\n\u001b[1;32m---> 11\u001b[0m     \u001b[38;5;28mprint\u001b[39m(words[i]\u001b[38;5;241m.\u001b[39msimilarity(\u001b[43mwords\u001b[49m\u001b[43m[\u001b[49m\u001b[43mi\u001b[49m\u001b[38;5;241;43m+\u001b[39;49m\u001b[38;5;241;43m1\u001b[39;49m\u001b[43m]\u001b[49m))\n",
      "\u001b[1;31mIndexError\u001b[0m: list index out of range"
     ]
    }
   ],
   "source": [
    "# Is cat similar to dog?\n",
    "# Is cat similar to lion?\n",
    "# Is cat similar to pet?\n",
    "# Is cat similar to milk?\n",
    "cat = nlp.vocab[\"cat\"]\n",
    "lion = nlp.vocab[\"lion\"]\n",
    "pet = nlp.vocab[\"pet\"]\n",
    "milk = nlp.vocab[\"milk\"]\n",
    "words = [cat, lion, pet, milk]\n",
    "for i in range(len(words)):\n",
    "    print(words[i].similarity(words[i+1]))"
   ]
  },
  {
   "cell_type": "markdown",
   "id": "b14495b4",
   "metadata": {},
   "source": [
    "# Exercise 1\n",
    "\n",
    "Find how similar are:\n",
    "* \"brother\" and \"sister\"\n",
    "* \"strong\" and \"weak\"\n",
    "* \"cactus\" and \"piano\""
   ]
  },
  {
   "cell_type": "code",
   "execution_count": null,
   "id": "a1059a85",
   "metadata": {},
   "outputs": [],
   "source": [
    "# Write your code here"
   ]
  },
  {
   "cell_type": "code",
   "execution_count": 62,
   "id": "e2d4fa1d",
   "metadata": {},
   "outputs": [],
   "source": [
    "answer_a = \"\"\n",
    "answer_b = \"\"\n",
    "answer_c = \"\""
   ]
  },
  {
   "cell_type": "code",
   "execution_count": 63,
   "id": "f77c1088",
   "metadata": {},
   "outputs": [
    {
     "ename": "ModuleNotFoundError",
     "evalue": "No module named 'answers'",
     "output_type": "error",
     "traceback": [
      "\u001b[1;31m---------------------------------------------------------------------------\u001b[0m",
      "\u001b[1;31mModuleNotFoundError\u001b[0m                       Traceback (most recent call last)",
      "Input \u001b[1;32mIn [63]\u001b[0m, in \u001b[0;36m<module>\u001b[1;34m\u001b[0m\n\u001b[1;32m----> 1\u001b[0m \u001b[38;5;28;01mfrom\u001b[39;00m \u001b[38;5;21;01manswers\u001b[39;00m \u001b[38;5;28;01mimport\u001b[39;00m check\n\u001b[0;32m      2\u001b[0m check(answer_a)\n\u001b[0;32m      3\u001b[0m check(answer_b)\n",
      "\u001b[1;31mModuleNotFoundError\u001b[0m: No module named 'answers'"
     ]
    }
   ],
   "source": [
    "from answers import check\n",
    "check(answer_a)\n",
    "check(answer_b)\n",
    "check(answer_c)"
   ]
  },
  {
   "cell_type": "markdown",
   "id": "3ce011b7",
   "metadata": {},
   "source": [
    "As you can see from this exercise: antonyms (words with opposite meaning) can be also similar, because they share some common semantic feature, eg. \"short\" and \"tall\" both relate to \"height\" category to some extent and many many other groups of words."
   ]
  },
  {
   "cell_type": "markdown",
   "id": "430fc6b1",
   "metadata": {},
   "source": [
    "##  Word Vector Arithmetic\n",
    "\n",
    "Because words are stored as vectors, we can perform normal vector operations on them, for example vector addition, multiplication of a vector by a scalar and many many more.\n",
    "\n",
    "Have you wondered what will you get if you combine a \"yellow\" and \"fruit\"? \"Banana\". Let's see!"
   ]
  },
  {
   "cell_type": "code",
   "execution_count": 65,
   "id": "894fb90e",
   "metadata": {},
   "outputs": [
    {
     "data": {
      "text/plain": [
       "array([-6.47009969e-01,  5.60670018e-01,  9.13359970e-02, -1.23790002e+00,\n",
       "        3.25237423e-01,  4.32835996e-01, -3.67932022e-01,  3.93610001e-01,\n",
       "       -7.75529981e-01,  2.20079994e+00, -7.61919975e-01, -6.41800016e-02,\n",
       "       -1.08894992e+00, -3.79496992e-01,  2.77195007e-01, -2.71789998e-01,\n",
       "       -1.12000108e-02,  3.48930001e+00,  4.71540034e-01, -1.09525001e+00,\n",
       "        8.95690024e-01, -3.02999973e-01, -2.49027997e-01,  4.59549993e-01,\n",
       "        2.39600003e-01, -8.05019975e-01,  3.25670004e-01, -1.23650014e-01,\n",
       "       -2.48000026e-03, -7.25495994e-01, -6.18510008e-01, -6.85140043e-02,\n",
       "        6.19000018e-01, -5.08849978e-01, -5.03639996e-01,  7.26449966e-01,\n",
       "        1.23558998e-01, -2.19999999e-01, -4.23379987e-01,  6.70194983e-01,\n",
       "        3.83930027e-01,  1.36059999e-01,  5.42799756e-03, -3.93188000e-01,\n",
       "        1.29553008e+00,  1.77930027e-01, -5.25689960e-01,  3.96849990e-01,\n",
       "        4.20414001e-01, -2.55299807e-02, -6.96550012e-01, -2.41649985e-01,\n",
       "        5.99190071e-02, -4.97690022e-01,  1.33951998e+00, -1.05615997e+00,\n",
       "       -6.88709974e-01,  7.86720037e-01, -8.48600045e-02, -8.32540035e-01,\n",
       "       -2.01659977e-01, -2.51989990e-01,  8.36640000e-01,  3.62529993e-01,\n",
       "        1.44630000e-01, -4.65790004e-01, -5.77449977e-01, -4.23850000e-01,\n",
       "       -3.64289999e-01,  1.25976992e+00, -7.30290055e-01,  9.68360007e-01,\n",
       "       -2.77590990e-01,  2.81127691e-01,  2.15110004e-01,  1.06619999e-01,\n",
       "        2.33823001e-01, -1.63516611e-01,  2.72177994e-01, -3.69027019e-01,\n",
       "        6.97300136e-02,  7.92140007e-01, -1.39268994e-01,  1.69569999e-01,\n",
       "        1.98929995e-01, -9.13159966e-01,  2.21011996e+00,  2.18039989e+00,\n",
       "       -8.06087017e-01, -1.43800024e-02,  8.78660023e-01,  1.28304005e-01,\n",
       "        1.48486996e+00,  5.39000332e-03, -6.42805040e-01,  4.25830007e-01,\n",
       "       -3.86949003e-01, -8.10309947e-02, -3.54992032e-01, -4.98304993e-01,\n",
       "        6.02909982e-01, -3.08788002e-01,  5.34680009e-01, -1.03827000e+00,\n",
       "       -8.34110022e-01, -1.85613000e+00, -1.65459991e-01,  5.37100017e-01,\n",
       "        1.14223003e+00,  1.08884001e+00, -7.38200009e-01, -2.03626990e-01,\n",
       "       -6.61979973e-01,  4.88600016e-01, -9.83999670e-03,  3.66540030e-02,\n",
       "       -8.17519948e-02, -3.00749987e-01,  3.36059004e-01,  5.18202007e-01,\n",
       "       -7.04339981e-01,  3.09299976e-02, -4.11381006e-01, -1.69580013e-01,\n",
       "       -7.63720036e-01, -2.64049977e-01,  8.22950006e-01, -1.07942000e-01,\n",
       "       -2.10700989e-01, -1.20451994e-01, -8.48729968e-01, -2.58834988e-01,\n",
       "        3.36440027e-01,  2.87057012e-01, -1.03799924e-02, -1.29909992e-01,\n",
       "        1.96876004e-01, -7.39169955e-01,  8.84860009e-02,  3.85720015e-01,\n",
       "       -4.26020002e+00,  1.05983007e+00,  9.20459986e-01,  9.76018980e-02,\n",
       "       -6.11734986e-01,  2.42443293e-01, -2.10939988e-01,  3.20190012e-01,\n",
       "        3.19209993e-01, -5.76200038e-02,  5.48110008e-01,  1.98523000e-01,\n",
       "        1.38587999e+00, -2.46033296e-01, -1.12426996e+00, -7.68389940e-01,\n",
       "       -8.70550036e-01, -1.67599916e-02, -1.07639998e-01,  3.34909022e-01,\n",
       "        4.17599976e-02,  4.97300178e-02,  4.40470010e-01,  5.58960021e-01,\n",
       "        1.08889997e-01, -4.15636003e-01, -2.66279995e-01, -8.26920033e-01,\n",
       "        9.15409997e-02,  6.47019982e-01,  3.36230010e-01,  6.57250047e-01,\n",
       "       -4.74343002e-01, -4.01109993e-01, -9.07050014e-01, -9.48100016e-02,\n",
       "       -6.21199906e-02, -1.03100002e-01,  4.94139969e-01, -3.07569981e-01,\n",
       "        2.43577003e-01,  1.83089972e-02,  4.54971015e-01, -3.12678993e-01,\n",
       "       -2.66263008e-01, -8.65633011e-01, -9.98270035e-01, -7.01279998e-01,\n",
       "       -3.96439970e-01, -6.69239998e-01, -9.22299922e-02,  2.66219020e-01,\n",
       "       -1.34000018e-01, -1.71181008e-01,  1.32499993e-01,  3.68108988e-01,\n",
       "        6.19059980e-01,  7.32140005e-01, -3.88808995e-01,  2.06734002e-01,\n",
       "       -4.98219997e-01,  2.38159999e-01, -6.94190025e-01,  3.79949957e-02,\n",
       "        1.51749983e-01,  2.33644009e-01,  4.23490047e-01, -7.93700218e-02,\n",
       "        4.55856025e-01,  2.82480001e-01,  3.25755984e-01,  1.21993995e+00,\n",
       "        5.83180010e-01, -6.31729960e-02, -3.31654012e-01,  1.10420004e-01,\n",
       "       -3.78129989e-01, -4.44059998e-01, -3.35700065e-02, -2.89119512e-01,\n",
       "       -5.97890019e-01, -7.13719964e-01,  5.11560977e-01,  4.20540005e-01,\n",
       "        4.59290028e-01,  3.43640000e-01,  4.50019002e-01,  2.99311996e-01,\n",
       "       -5.55281997e-01,  9.63559985e-01, -4.01754007e-02,  1.94499999e-01,\n",
       "       -7.52400011e-02,  2.42000014e-01, -2.61480004e-01,  3.26020002e-01,\n",
       "        3.05756986e-01, -2.53663987e-01,  7.47630000e-01,  7.66510963e-01,\n",
       "       -5.91789961e-01,  2.00513989e-01, -1.37475002e+00, -2.57959992e-01,\n",
       "       -6.99100018e-01,  4.46309984e-01,  1.14909992e-01, -4.96100038e-02,\n",
       "       -4.14849997e-01,  5.42070985e-01,  1.37198001e-01,  1.59121990e-01,\n",
       "       -2.40559995e-01,  2.92672992e-01,  6.20779991e-01,  1.23134005e+00,\n",
       "        8.46390009e-01,  2.69089997e-01,  6.43215716e-01,  1.42035306e-01,\n",
       "        6.24409989e-02, -1.85755014e-01,  5.23491986e-02,  8.96520019e-01,\n",
       "       -5.40389977e-02,  2.48627305e-01, -3.22990000e-01,  3.94829988e-01,\n",
       "       -7.65839994e-01, -3.29741001e-01, -2.30375007e-01,  9.76338014e-02,\n",
       "       -1.05600059e-02, -5.65720022e-01, -5.45830965e-01,  9.86999869e-02,\n",
       "       -3.38540018e-01,  9.85900044e-01, -2.41601005e-01,  1.08139002e+00,\n",
       "       -6.71509951e-02, -7.56900012e-02,  1.31009996e-01, -5.51689982e-01,\n",
       "        1.25300020e-01,  4.61979985e-01,  2.06860006e-01,  4.91247982e-01,\n",
       "        6.33659959e-01, -5.41440010e-01, -5.11393011e-01,  4.69870001e-01,\n",
       "        2.67660022e-01, -6.76190019e-01, -1.02953005e+00,  8.81049991e-01,\n",
       "        4.90250021e-01, -1.60584998e+00,  5.83490014e-01,  1.09275007e+00],\n",
       "      dtype=float32)"
      ]
     },
     "execution_count": 65,
     "metadata": {},
     "output_type": "execute_result"
    }
   ],
   "source": [
    "new_vector = nlp.vocab[\"yellow\"].vector + nlp.vocab[\"fruit\"].vector"
   ]
  },
  {
   "cell_type": "code",
   "execution_count": null,
   "id": "437494a2",
   "metadata": {},
   "outputs": [],
   "source": []
  }
 ],
 "metadata": {
  "kernelspec": {
   "display_name": "Python 3 (ipykernel)",
   "language": "python",
   "name": "python3"
  },
  "language_info": {
   "codemirror_mode": {
    "name": "ipython",
    "version": 3
   },
   "file_extension": ".py",
   "mimetype": "text/x-python",
   "name": "python",
   "nbconvert_exporter": "python",
   "pygments_lexer": "ipython3",
   "version": "3.9.7"
  }
 },
 "nbformat": 4,
 "nbformat_minor": 5
}
