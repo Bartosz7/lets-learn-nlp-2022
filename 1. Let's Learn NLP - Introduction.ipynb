{
 "cells": [
  {
   "cell_type": "markdown",
   "metadata": {},
   "source": [
    "![](./resources/images/header_logo.png)\n",
    "\n",
    "# Chapter 1 Introduction\n",
    "\n",
    "This chapter is about getting most out of this workshop. Please, don't skip it and engage in all activites.\n",
    "\n",
    "## Introduction Video (recommended)\n",
    "Please, watch this [video](https://youtu.be/krufQ7cs14U) on how make best use of this course.\n",
    "\n",
    "## Prerequisites\n",
    "Before starting this workshop, here is a list of necessary requirements:\n",
    "*   Access to a **PC** or **laptop** (**1** per student/group)\n",
    "*   **Python** **3.9** or higher installed on the computer\n",
    "*   **Jupyter** **notebook** package installed (**Helpful guide**: https://jupyter.org/install)\n",
    "*   Have our **virtual** **environment** activated. It will include all the important dependencies needed to run the notebook.\n",
    "*   We recommend the students have some basic knowledge about **programming in Python**, however, many of the exercises will involve running simple commands and we have done our best to abstract any complicated logic away.\n",
    "* There will be some use of **maths** to explain how words are stored. We recommend students have some knowledge of **vectors** and how they are added together.\n",
    "\n",
    "## Learning Objectives (rewrite this section)\n",
    "\n",
    "During this workshop you will:\n",
    "1. Learn how to use Jupyter Notebook\n",
    "2. Understand the fundamentals of Natural Language Processing methods\n",
    "3. Improve your  programming skills and learn the basics of **spacy** library\n",
    "4. Use the acquired knowledge and skills in practice and apply them in simple NLP exercises\n",
    "\n",
    "Upon finishing the workshop, you should be able to answer the following questions:\n",
    "1. What is NLP? What domains is it used in and how?\n",
    "2. What are some of the basic tools and processes of text analysis?\n",
    "3. How computers represent and interpret human-written text?\n",
    "4. How sentiment analysis works? (the basics)\n",
    "5. What are some of the methods of extracting keywords or performing text summarization?"
   ]
  },
  {
   "cell_type": "markdown",
   "metadata": {},
   "source": [
    "### Remember to clear the cell outputs before starting this tutorial (Cell -> All Output -> Clear)"
   ]
  },
  {
   "cell_type": "markdown",
   "metadata": {},
   "source": [
    "## Checking setup\n",
    "\n",
    "Before you continue the course, ensure that the provided virtual environment is activated and you have acces to use all the necessary dependencies.  To do so, run the cells below:"
   ]
  },
  {
   "cell_type": "code",
   "execution_count": null,
   "metadata": {},
   "outputs": [],
   "source": [
    "# CHECK YOUR PYTHON VERSION, IT SHOULD BE 3.9 or higher\n",
    "!python --version"
   ]
  },
  {
   "cell_type": "code",
   "execution_count": null,
   "metadata": {},
   "outputs": [],
   "source": [
    "# DO NOT CHANGE THIS CELL!\n",
    "# RUN THIS CELL TO CHECK YOUR SETUP\n",
    "!pip freeze > requirements_copy.txt\n",
    "%run resources/python/check_dependencies.py requirements.txt requirements_copy.txt"
   ]
  },
  {
   "cell_type": "markdown",
   "metadata": {},
   "source": [
    "If **Test 1 fails**, ensure you have activated the virtual environment provided and opened Jupyter Notebook inside it.\n",
    "\n",
    "If **Test 2 fails**, ensure you have downloaded the language model and that it is accessible in the activated virtual environment. If you haven't downloaded the language model, run the cell below."
   ]
  },
  {
   "cell_type": "code",
   "execution_count": null,
   "metadata": {},
   "outputs": [],
   "source": [
    "# If Test 2 fails, uncomment the command below and run the cell\n",
    "# !python -m spacy download en_core_web_md"
   ]
  },
  {
   "cell_type": "markdown",
   "metadata": {},
   "source": [
    "## Introduction to NLP\n",
    "NLP stands for **Natural Language Processing**. It is an area of study in Computer Science relating to how computers can understand written text and speech in the same way humans do.\n",
    "\n",
    "NLP is used throughout our daily lives. When we talk to a virtual assistant such as *Alexa* or *Siri*, they are using NLP tools to process what we said and then provide a response in their voice. If you want to translate text from one language into another, NLP is used here. It is also used for correcting grammar and spelling mistakes, like *Microsoft Word* or *Grammarly* does.\n",
    "\n",
    "We have provided this fun and engaging workshop where you will get hands-on experience with a range of NLP tools. All the exercises are interactive to allow you to tinker and play with the various features while learning about the most interesting aspects of NLP."
   ]
  },
  {
   "cell_type": "markdown",
   "metadata": {},
   "source": [
    "## Getting familiar with Jupyter Notebook\n",
    "This workshop is being presented to you in a Jupyter notebook. It contains **cells** which include some Python code.\n",
    "Other cells like the one you are reading now are markdown cells, they are used mainly for writing text. We have provided a few simple exercises to help you practice using the notebook. Have fun!"
   ]
  },
  {
   "cell_type": "markdown",
   "metadata": {},
   "source": [
    "Enter some text inside the print function, between the quotes. Then, select the cell and click the play button at the top navigation bar to run it or use a keyboard shortcut \"Shift + Enter\". You can view all the available shortcuts by pressing \"Esc + H\"."
   ]
  },
  {
   "cell_type": "code",
   "execution_count": null,
   "metadata": {},
   "outputs": [],
   "source": [
    "print(\"\")"
   ]
  },
  {
   "cell_type": "markdown",
   "metadata": {},
   "source": [
    "Let's now try and run two cells. In the first cell below change the values of x and y and execute the shell.\n",
    "There won't be any output yet, but if you run the next cell, you should then see the sum of the two numbers."
   ]
  },
  {
   "cell_type": "code",
   "execution_count": null,
   "metadata": {},
   "outputs": [],
   "source": [
    "x = 0\n",
    "y = 1"
   ]
  },
  {
   "cell_type": "code",
   "execution_count": null,
   "metadata": {},
   "outputs": [],
   "source": [
    "z = x + y\n",
    "print(z)"
   ]
  },
  {
   "cell_type": "markdown",
   "metadata": {},
   "source": [
    "As you can see Jupyter \"remembers\" the variables and outputs of all executed cells, so you can write code that uses the code from other cells in the same notebook. Now, check out some of the interactive elements we will use to deliver content in this course."
   ]
  },
  {
   "cell_type": "markdown",
   "metadata": {},
   "source": [
    "## Video 1 (example)\n",
    "\n",
    "During the workshop you may see a number of video tutorials. These are available via links, or you can watch them directly in Jupyter Notebooks by running a cell under Video section. The example video was a demo concept of our workshop.\n",
    "\n",
    "[**Click to watch Example Video**](https://youtu.be/BDLvNPYLhqs)"
   ]
  },
  {
   "cell_type": "markdown",
   "metadata": {},
   "source": [
    "The following cell will display the video in the notebook"
   ]
  },
  {
   "cell_type": "code",
   "execution_count": null,
   "metadata": {},
   "outputs": [],
   "source": [
    "from IPython.display import YouTubeVideo\n",
    "video = YouTubeVideo(\"BDLvNPYLhqs\", width=\"100%\", height=\"500px\")\n",
    "display(video)"
   ]
  },
  {
   "cell_type": "markdown",
   "metadata": {},
   "source": [
    "## Quiz 1 (example)\n",
    "\n",
    "Throughout the course you will see several quizzes testing your knowledge from the specific section.\n",
    "To activate the quiz, just run the cell. Test the example quiz now. (Questions 1-3 are from the demo of jupyterquiz repository at https://github.com/jmshea/jupyterquiz)"
   ]
  },
  {
   "cell_type": "code",
   "execution_count": null,
   "metadata": {},
   "outputs": [],
   "source": [
    "from jupyterquiz import display_quiz\n",
    "display_quiz(\"resources/quizzes/questions1.json\")"
   ]
  },
  {
   "cell_type": "markdown",
   "metadata": {},
   "source": [
    "## Exercise 1 (example)\n",
    "\n",
    "Just to revise Python a little bit, finish the function `f(x)` that takes in `x` and returns `-3*x+5`. Do not change the name of the function."
   ]
  },
  {
   "cell_type": "code",
   "execution_count": null,
   "metadata": {},
   "outputs": [],
   "source": [
    "def f(x):\n",
    "    pass  # Remove pass and write your solution"
   ]
  },
  {
   "cell_type": "markdown",
   "metadata": {},
   "source": [
    "If you have finished coding and executed the cell, run the cell below to check your solution."
   ]
  },
  {
   "cell_type": "code",
   "execution_count": null,
   "metadata": {},
   "outputs": [],
   "source": [
    "# DO NOT EDIT THIS CELL\n",
    "def test(f):\n",
    "    assert f(3) == -4\n",
    "    assert f(0) == 5\n",
    "    assert f(412) == -1231\n",
    "    return \"WELL DONE!\"\n",
    "\n",
    "test(f)"
   ]
  },
  {
   "cell_type": "markdown",
   "metadata": {},
   "source": [
    "Each exercise (except this one) will have a link to see a video solution."
   ]
  },
  {
   "cell_type": "markdown",
   "metadata": {},
   "source": [
    "That's all in this section. In the next one we will start exploring Spacy.\n",
    "### [Continue to part 2](2.%20Let's%20Learn%20NLP%20-%20Getting%20started%20with%20Spacy.ipynb)"
   ]
  }
 ],
 "metadata": {
  "kernelspec": {
   "display_name": "nlp_env",
   "language": "python",
   "name": "nlp_env"
  },
  "language_info": {
   "codemirror_mode": {
    "name": "ipython",
    "version": 3
   },
   "file_extension": ".py",
   "mimetype": "text/x-python",
   "name": "python",
   "nbconvert_exporter": "python",
   "pygments_lexer": "ipython3",
   "version": "3.9.7"
  }
 },
 "nbformat": 4,
 "nbformat_minor": 1
}
